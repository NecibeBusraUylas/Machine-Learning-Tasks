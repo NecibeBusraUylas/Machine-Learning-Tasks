{
  "nbformat": 4,
  "nbformat_minor": 0,
  "metadata": {
    "colab": {
      "name": "TASK3 (NaiveBayes-LinearRegression).ipynb",
      "provenance": [],
      "collapsed_sections": []
    },
    "kernelspec": {
      "name": "python3",
      "display_name": "Python 3"
    },
    "language_info": {
      "name": "python"
    }
  },
  "cells": [
    {
      "cell_type": "code",
      "execution_count": 1,
      "metadata": {
        "id": "5KcpRoZJgYqo"
      },
      "outputs": [],
      "source": [
        "import pandas as pd\n",
        "import numpy as np\n",
        "from sklearn.datasets import load_breast_cancer \n",
        "from sklearn.model_selection import train_test_split #two fold cross validation\n",
        "from sklearn.naive_bayes import BernoulliNB\n",
        "from sklearn.naive_bayes import ComplementNB\n",
        "from sklearn.naive_bayes import CategoricalNB\n",
        "from sklearn.naive_bayes import MultinomialNB\n",
        "from sklearn.naive_bayes import GaussianNB\n",
        "from sklearn.metrics import f1_score #scoring of the Naive Bayes classification model\n",
        "from sklearn.linear_model import LinearRegression\n",
        "from sklearn.metrics import mean_squared_error #scoring of the Linear Regression model"
      ]
    },
    {
      "cell_type": "code",
      "source": [
        "X,y=load_breast_cancer(return_X_y= True)"
      ],
      "metadata": {
        "id": "oYQx1KkwgvLX"
      },
      "execution_count": 2,
      "outputs": []
    },
    {
      "cell_type": "code",
      "source": [
        "X_train,X_test,y_train,y_test=train_test_split(X,y,random_state=2,test_size=0.2)"
      ],
      "metadata": {
        "id": "Mm5OYzlbgw9U"
      },
      "execution_count": 3,
      "outputs": []
    },
    {
      "cell_type": "markdown",
      "source": [
        "## **Naive Bayes**\n",
        "\n",
        "---\n"
      ],
      "metadata": {
        "id": "jramlftng7rq"
      }
    },
    {
      "cell_type": "code",
      "source": [
        "naiveBayes = GaussianNB()"
      ],
      "metadata": {
        "id": "Q3bGIN8sg5TZ"
      },
      "execution_count": 4,
      "outputs": []
    },
    {
      "cell_type": "code",
      "source": [
        "naiveBayes.fit(X_train,y_train)"
      ],
      "metadata": {
        "colab": {
          "base_uri": "https://localhost:8080/"
        },
        "id": "Q1YrtewOkjK4",
        "outputId": "e5d37664-48b4-49a0-c3ba-0e438d61e067"
      },
      "execution_count": 5,
      "outputs": [
        {
          "output_type": "execute_result",
          "data": {
            "text/plain": [
              "GaussianNB()"
            ]
          },
          "metadata": {},
          "execution_count": 5
        }
      ]
    },
    {
      "cell_type": "code",
      "source": [
        "naiveBayes_pred = naiveBayes.predict(X_test)"
      ],
      "metadata": {
        "id": "T_ufC1hahZoK"
      },
      "execution_count": 6,
      "outputs": []
    },
    {
      "cell_type": "code",
      "source": [
        "naiveBayes_f1 = f1_score(y_test,naiveBayes_pred,average='binary')"
      ],
      "metadata": {
        "id": "ENp3p_Wshb5g"
      },
      "execution_count": 7,
      "outputs": []
    },
    {
      "cell_type": "markdown",
      "source": [
        "F1 score is used on classification models, it combines the precision and recall of a classifier into a single metric by taking their harmonic mean."
      ],
      "metadata": {
        "id": "IldIAJo9HOpz"
      }
    },
    {
      "cell_type": "code",
      "source": [
        "print(\"F1 Score of Gaussian Naive Bayes\",naiveBayes_f1)"
      ],
      "metadata": {
        "colab": {
          "base_uri": "https://localhost:8080/"
        },
        "id": "qKqnjyUNhdxQ",
        "outputId": "8bfa48ab-989a-4191-bbe8-4d205028e6cf"
      },
      "execution_count": 8,
      "outputs": [
        {
          "output_type": "stream",
          "name": "stdout",
          "text": [
            "F1 Score of Gaussian Naive Bayes 0.9489051094890512\n"
          ]
        }
      ]
    },
    {
      "cell_type": "markdown",
      "source": [
        "F1 Score of Multinomial Naive Bayes 0.9         \n",
        "F1 Score of Categorical Naive Bayes 0.9361702127659574                          \n",
        "F1 Score of Complement Naive Bayes 0.9    \n",
        "F1 Score of Bernoulli Naive Bayes 0.7540983606557378\n"
      ],
      "metadata": {
        "id": "Nm2ctpwvEt8T"
      }
    },
    {
      "cell_type": "markdown",
      "source": [
        "## **Linear Regression**\n",
        "\n",
        "---\n",
        "\n"
      ],
      "metadata": {
        "id": "HWMRnUawhr6I"
      }
    },
    {
      "cell_type": "code",
      "source": [
        "linearRegresssion = LinearRegression()"
      ],
      "metadata": {
        "id": "lrv-J5s3kbCA"
      },
      "execution_count": 9,
      "outputs": []
    },
    {
      "cell_type": "code",
      "source": [
        "linearRegresssion.fit(X_train,y_train)"
      ],
      "metadata": {
        "colab": {
          "base_uri": "https://localhost:8080/"
        },
        "id": "mzeA-o7SkfJb",
        "outputId": "eb74114f-34b9-4915-c440-d6e5f2a28fe6"
      },
      "execution_count": 10,
      "outputs": [
        {
          "output_type": "execute_result",
          "data": {
            "text/plain": [
              "LinearRegression()"
            ]
          },
          "metadata": {},
          "execution_count": 10
        }
      ]
    },
    {
      "cell_type": "code",
      "source": [
        "linearRegresssion_pred = linearRegresssion.predict(X_test)"
      ],
      "metadata": {
        "id": "sR4cfgCNhyCA"
      },
      "execution_count": 11,
      "outputs": []
    },
    {
      "cell_type": "code",
      "source": [
        "linearRegresssion_rmse = np.sqrt(mean_squared_error(y_test,linearRegresssion_pred))"
      ],
      "metadata": {
        "id": "wf7ytGEMh1iA"
      },
      "execution_count": 12,
      "outputs": []
    },
    {
      "cell_type": "markdown",
      "source": [
        "RMSE is used on regression models, it shows how concentrated the data is around the line of best fit."
      ],
      "metadata": {
        "id": "qxsC4RC-HR9t"
      }
    },
    {
      "cell_type": "code",
      "source": [
        "print(\"Root Mean Squared Error of Linear Regression\",linearRegresssion_rmse)"
      ],
      "metadata": {
        "colab": {
          "base_uri": "https://localhost:8080/"
        },
        "id": "hW_9n9Jlh3DW",
        "outputId": "ea2c9c34-d19a-4102-8c44-4ca4c99ff35e"
      },
      "execution_count": 13,
      "outputs": [
        {
          "output_type": "stream",
          "name": "stdout",
          "text": [
            "Root Mean Squared Error of Linear Regression 0.2618099528045421\n"
          ]
        }
      ]
    }
  ]
}