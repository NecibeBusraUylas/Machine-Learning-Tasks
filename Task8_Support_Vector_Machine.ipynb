{
  "nbformat": 4,
  "nbformat_minor": 0,
  "metadata": {
    "colab": {
      "name": "Task8 Support Vector Machine.ipynb",
      "provenance": [],
      "collapsed_sections": []
    },
    "kernelspec": {
      "name": "python3",
      "display_name": "Python 3"
    },
    "language_info": {
      "name": "python"
    }
  },
  "cells": [
    {
      "cell_type": "code",
      "execution_count": null,
      "metadata": {
        "id": "g1RAg1MAdeQo"
      },
      "outputs": [],
      "source": [
        "import pandas as pd\n",
        "import numpy as np\n",
        "import matplotlib.pyplot as plt\n",
        "from sklearn.model_selection import train_test_split\n",
        "from sklearn.svm import SVC"
      ]
    },
    {
      "cell_type": "code",
      "source": [
        "data = pd.read_csv(\"Iris.csv\")"
      ],
      "metadata": {
        "id": "3vmh6h0dec54"
      },
      "execution_count": null,
      "outputs": []
    },
    {
      "cell_type": "code",
      "source": [
        "s = data[data.Species  == \"Iris-setosa\"]\n",
        "vc = data[data.Species  == \"Iris-versicolor\"]\n",
        "v = data[data.Species  == \"Iris-virginica\"]"
      ],
      "metadata": {
        "id": "JmII_GihZW11"
      },
      "execution_count": null,
      "outputs": []
    },
    {
      "cell_type": "code",
      "source": [
        "plt.scatter(s.SepalLengthCm,s.SepalWidthCm,color=\"red\",label=\"setosa\",alpha=0.3)\n",
        "plt.scatter(vc.SepalLengthCm,vc.SepalWidthCm,color=\"green\",label=\"versicolor\",alpha=0.3)\n",
        "plt.scatter(v.SepalLengthCm,v.SepalWidthCm,color=\"blue\",label=\"virginica\",alpha=0.3)\n",
        "\n",
        "plt.xlabel(\"Sepal Length\")\n",
        "plt.ylabel(\"Sepal Width\")\n",
        "plt.legend()\n",
        "plt.show()"
      ],
      "metadata": {
        "colab": {
          "base_uri": "https://localhost:8080/",
          "height": 282
        },
        "id": "r4spkl9Sec9S",
        "outputId": "a85f518c-ebbb-4bf4-b862-f505776137ef"
      },
      "execution_count": null,
      "outputs": [
        {
          "output_type": "display_data",
          "data": {
            "text/plain": [
              "<Figure size 432x288 with 1 Axes>"
            ],
            "image/png": "[encoded data removed]"
          },
          "metadata": {
            "needs_background": "light"
          }
        }
      ]
    },
    {
      "cell_type": "code",
      "source": [
        "plt.scatter(s.PetalLengthCm,s.PetalWidthCm,color=\"red\",label=\"setosa\",alpha=0.3)\n",
        "plt.scatter(vc.PetalLengthCm,vc.PetalWidthCm,color=\"green\",label=\"versicolor\",alpha=0.3)\n",
        "plt.scatter(v.PetalLengthCm,v.PetalWidthCm,color=\"blue\",label=\"virginica\",alpha=0.3)\n",
        "\n",
        "plt.xlabel(\"Petal Length\")\n",
        "plt.ylabel(\"Petal Width\")\n",
        "plt.legend()\n",
        "plt.show()"
      ],
      "metadata": {
        "colab": {
          "base_uri": "https://localhost:8080/",
          "height": 279
        },
        "id": "Za5kecTziqg8",
        "outputId": "824f6a48-32e3-4d48-f816-9af95db98553"
      },
      "execution_count": null,
      "outputs": [
        {
          "output_type": "display_data",
          "data": {
            "text/plain": [
              "<Figure size 432x288 with 1 Axes>"
            ],
            "image/png": "[encoded data removed]"
          },
          "metadata": {
            "needs_background": "light"
          }
        }
      ]
    },
    {
      "cell_type": "code",
      "source": [
        "data[\"Species\"].replace({\"Iris-setosa\": \"0\", \"Iris-versicolor\" : \"1\", \"Iris-virginica\": \"2\"})\n",
        "\n",
        "y= data.Species.values\n",
        "\n",
        "x_data = data.drop([\"Species\"],axis=1)\n",
        "#normalization\n",
        "x = (x_data - np.min(x_data)) / (np.max(x_data) - np.min(x_data))\n",
        "\n",
        "# train test split\n",
        "x_train, x_test, y_train, y_test = train_test_split(x,y,test_size=0.3,random_state=1)"
      ],
      "metadata": {
        "id": "lmL5cPGLi28z"
      },
      "execution_count": null,
      "outputs": []
    },
    {
      "cell_type": "code",
      "source": [
        "# SVM\n",
        "svm = SVC(random_state= 1)\n",
        "svm.fit(x_train, y_train)"
      ],
      "metadata": {
        "colab": {
          "base_uri": "https://localhost:8080/"
        },
        "id": "DHPnO3TBnCfq",
        "outputId": "c5109f18-3516-4766-d885-01daafbc6ea6"
      },
      "execution_count": null,
      "outputs": [
        {
          "output_type": "execute_result",
          "data": {
            "text/plain": [
              "SVC(random_state=1)"
            ]
          },
          "metadata": {},
          "execution_count": 7
        }
      ]
    },
    {
      "cell_type": "code",
      "source": [
        "# test\n",
        "print(\"Accuracy of Support Vector Machine algorithm: \", svm.score(x_test, y_test))"
      ],
      "metadata": {
        "colab": {
          "base_uri": "https://localhost:8080/"
        },
        "id": "fG0_r6s9nQjc",
        "outputId": "c96ba614-867c-4e7f-924f-46986efe3a19"
      },
      "execution_count": null,
      "outputs": [
        {
          "output_type": "stream",
          "name": "stdout",
          "text": [
            "Accuracy of Support Vector Machine algorithm:  0.9555555555555556\n"
          ]
        }
      ]
    }
  ]
}