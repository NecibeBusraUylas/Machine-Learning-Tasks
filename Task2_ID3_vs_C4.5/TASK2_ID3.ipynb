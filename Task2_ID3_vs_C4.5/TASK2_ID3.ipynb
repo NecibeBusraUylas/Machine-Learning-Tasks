{
  "nbformat": 4,
  "nbformat_minor": 0,
  "metadata": {
    "colab": {
      "name": "TASK2 ID3.ipynb",
      "provenance": []
    },
    "kernelspec": {
      "name": "python3",
      "display_name": "Python 3"
    },
    "language_info": {
      "name": "python"
    }
  },
  "cells": [
    {
      "cell_type": "code",
      "source": [
        "from chefboost import Chefboost as chef\n",
        "import pandas as pd\n",
        "import numpy as np"
      ],
      "metadata": {
        "id": "-l09GFnYE7_k"
      },
      "execution_count": null,
      "outputs": []
    },
    {
      "cell_type": "code",
      "source": [
        "data = pd.read_csv(\"Play Golf.csv\") #importing the dataset from the disk"
      ],
      "metadata": {
        "id": "8KQL8D5AE82R"
      },
      "execution_count": null,
      "outputs": []
    },
    {
      "cell_type": "code",
      "source": [
        "print(data)"
      ],
      "metadata": {
        "colab": {
          "base_uri": "https://localhost:8080/"
        },
        "id": "QjxBdukTE_FL",
        "outputId": "27298e3a-c9d7-4a8a-9413-3c174e86a311"
      },
      "execution_count": null,
      "outputs": [
        {
          "output_type": "stream",
          "name": "stdout",
          "text": [
            "     Outlook  Temp Humidity  Windy Play\n",
            "0      Rainy   Hot     High      0   No\n",
            "1      Rainy   Hot     High      1   No\n",
            "2   Overcast   Hot     High      0  Yes\n",
            "3      Sunny  Mild     High      0  Yes\n",
            "4      Sunny  Cool   Normal      0  Yes\n",
            "5      Sunny  Cool   Normal      1   No\n",
            "6   Overcast  Cool   Normal      1  Yes\n",
            "7      Rainy  Mild     High      0   No\n",
            "8      Rainy  Cool   Normal      0  Yes\n",
            "9      Sunny  Mild   Normal      0  Yes\n",
            "10     Rainy  Mild   Normal      1  Yes\n",
            "11  Overcast  Mild     High      1  Yes\n",
            "12  Overcast   Hot   Normal      0  Yes\n",
            "13     Sunny  Mild     High      1   No\n"
          ]
        }
      ]
    },
    {
      "cell_type": "code",
      "source": [
        "config={'algorithm':'ID3'}\n",
        "model=chef.fit(data,config,target_label='Play')"
      ],
      "metadata": {
        "colab": {
          "base_uri": "https://localhost:8080/"
        },
        "id": "fN_CTXncFIMd",
        "outputId": "e74a0123-1f9f-448a-c73e-c70b8d13631a"
      },
      "execution_count": null,
      "outputs": [
        {
          "output_type": "stream",
          "name": "stdout",
          "text": [
            "[INFO]:  1 CPU cores will be allocated in parallel running\n",
            "ID3  tree is going to be built...\n",
            "-------------------------\n",
            "finished in  0.4102611541748047  seconds\n",
            "-------------------------\n",
            "Evaluate  train set\n",
            "-------------------------\n",
            "Accuracy:  100.0 % on  14  instances\n",
            "Labels:  ['No' 'Yes']\n",
            "Confusion matrix:  [[5, 0], [0, 9]]\n",
            "Precision:  100.0 %, Recall:  100.0 %, F1:  100.0 %\n"
          ]
        }
      ]
    },
    {
      "cell_type": "code",
      "source": [
        "pr= chef.predict(model,[\"Rainy\",\"Cool\",\"Normal\",\"0\"])\n",
        "print(pr)"
      ],
      "metadata": {
        "colab": {
          "base_uri": "https://localhost:8080/"
        },
        "id": "9w3hh_1DFJ9Z",
        "outputId": "7354e441-fa9f-4fb4-8e73-e76a4fe30351"
      },
      "execution_count": null,
      "outputs": [
        {
          "output_type": "stream",
          "name": "stdout",
          "text": [
            "Yes\n"
          ]
        }
      ]
    }
  ]
}