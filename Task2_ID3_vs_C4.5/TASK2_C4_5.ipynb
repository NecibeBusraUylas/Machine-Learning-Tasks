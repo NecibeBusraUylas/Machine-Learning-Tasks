{
  "nbformat": 4,
  "nbformat_minor": 0,
  "metadata": {
    "colab": {
      "name": "TASK2 C4.5.ipynb",
      "provenance": [],
      "collapsed_sections": []
    },
    "kernelspec": {
      "name": "python3",
      "display_name": "Python 3"
    },
    "language_info": {
      "name": "python"
    }
  },
  "cells": [
    {
      "cell_type": "code",
      "execution_count": null,
      "metadata": {
        "id": "KX9pePDCD31q"
      },
      "outputs": [],
      "source": [
        "from chefboost import Chefboost as chef\n",
        "import pandas as pd\n",
        "import numpy as np"
      ]
    },
    {
      "cell_type": "code",
      "source": [
        "data = pd.read_csv(\"Play Golf.csv\") #importing the dataset from the disk"
      ],
      "metadata": {
        "id": "v2ZKR-M6EFTh"
      },
      "execution_count": null,
      "outputs": []
    },
    {
      "cell_type": "code",
      "source": [
        "print(data)"
      ],
      "metadata": {
        "colab": {
          "base_uri": "https://localhost:8080/"
        },
        "id": "8F6iVhKyEIor",
        "outputId": "9c9c55bd-348f-45e2-adb4-62b71edaedb2"
      },
      "execution_count": null,
      "outputs": [
        {
          "output_type": "stream",
          "name": "stdout",
          "text": [
            "     Outlook  Temp Humidity  Windy Play\n",
            "0      Rainy   Hot     High      0   No\n",
            "1      Rainy   Hot     High      1   No\n",
            "2   Overcast   Hot     High      0  Yes\n",
            "3      Sunny  Mild     High      0  Yes\n",
            "4      Sunny  Cool   Normal      0  Yes\n",
            "5      Sunny  Cool   Normal      1   No\n",
            "6   Overcast  Cool   Normal      1  Yes\n",
            "7      Rainy  Mild     High      0   No\n",
            "8      Rainy  Cool   Normal      0  Yes\n",
            "9      Sunny  Mild   Normal      0  Yes\n",
            "10     Rainy  Mild   Normal      1  Yes\n",
            "11  Overcast  Mild     High      1  Yes\n",
            "12  Overcast   Hot   Normal      0  Yes\n",
            "13     Sunny  Mild     High      1   No\n"
          ]
        }
      ]
    },
    {
      "cell_type": "code",
      "source": [
        "config={'algorithm':'C4.5'}\n",
        "model=chef.fit(data,config,target_label='Play')"
      ],
      "metadata": {
        "colab": {
          "base_uri": "https://localhost:8080/"
        },
        "id": "IdZl3vYPEQ_g",
        "outputId": "5e2d0cdf-1994-4fdd-db03-d160720147b1"
      },
      "execution_count": null,
      "outputs": [
        {
          "output_type": "stream",
          "name": "stdout",
          "text": [
            "[INFO]:  1 CPU cores will be allocated in parallel running\n",
            "C4.5  tree is going to be built...\n",
            "-------------------------\n",
            "finished in  0.4537384510040283  seconds\n",
            "-------------------------\n",
            "Evaluate  train set\n",
            "-------------------------\n",
            "Accuracy:  100.0 % on  14  instances\n",
            "Labels:  ['No' 'Yes']\n",
            "Confusion matrix:  [[5, 0], [0, 9]]\n",
            "Precision:  100.0 %, Recall:  100.0 %, F1:  100.0 %\n"
          ]
        }
      ]
    },
    {
      "cell_type": "code",
      "source": [
        "pr= chef.predict(model,[\"Rainy\",\"Hot\",\"High\",\"0\"])\n",
        "print(pr)"
      ],
      "metadata": {
        "colab": {
          "base_uri": "https://localhost:8080/"
        },
        "id": "-RaxTmM-EUDX",
        "outputId": "01b15754-512d-43db-bb79-4ab44decf3a6"
      },
      "execution_count": null,
      "outputs": [
        {
          "output_type": "stream",
          "name": "stdout",
          "text": [
            "No\n"
          ]
        }
      ]
    }
  ]
}